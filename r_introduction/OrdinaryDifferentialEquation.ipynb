{
 "cells": [
  {
   "cell_type": "code",
   "execution_count": 1,
   "id": "8e563a0a",
   "metadata": {},
   "outputs": [
    {
     "name": "stderr",
     "output_type": "stream",
     "text": [
      "Updating HTML index of packages in '.Library'\n",
      "Making 'packages.html' ... done\n"
     ]
    }
   ],
   "source": [
    "install.packages(\"Deriv\")"
   ]
  },
  {
   "cell_type": "code",
   "execution_count": 2,
   "id": "0fddeba0",
   "metadata": {},
   "outputs": [],
   "source": [
    "library(Deriv)"
   ]
  },
  {
   "cell_type": "code",
   "execution_count": 3,
   "id": "85977988",
   "metadata": {},
   "outputs": [],
   "source": [
    "options(repr.plot.width = 6, repr.plot.height = 3.5)"
   ]
  },
  {
   "cell_type": "code",
   "execution_count": 4,
   "id": "5ba6905f",
   "metadata": {},
   "outputs": [
    {
     "data": {
      "text/html": [
       "<pre class=language-r><code>function (x) \n",
       "0</code></pre>"
      ],
      "text/latex": [
       "\\begin{minted}{r}\n",
       "function (x) \n",
       "0\n",
       "\\end{minted}"
      ],
      "text/markdown": [
       "```r\n",
       "function (x) \n",
       "0\n",
       "```"
      ],
      "text/plain": [
       "function (x) \n",
       "0"
      ]
     },
     "metadata": {},
     "output_type": "display_data"
    }
   ],
   "source": [
    "f <- function(x) {\n",
    "    10\n",
    "}\n",
    "Deriv(f)"
   ]
  },
  {
   "cell_type": "code",
   "execution_count": 5,
   "id": "b19d6dca",
   "metadata": {},
   "outputs": [
    {
     "data": {
      "text/html": [
       "<pre class=language-r><code>function (x) \n",
       "2</code></pre>"
      ],
      "text/latex": [
       "\\begin{minted}{r}\n",
       "function (x) \n",
       "2\n",
       "\\end{minted}"
      ],
      "text/markdown": [
       "```r\n",
       "function (x) \n",
       "2\n",
       "```"
      ],
      "text/plain": [
       "function (x) \n",
       "2"
      ]
     },
     "metadata": {},
     "output_type": "display_data"
    }
   ],
   "source": [
    "f <- function(x) {\n",
    "    x*2\n",
    "}\n",
    "Deriv(f)"
   ]
  },
  {
   "cell_type": "code",
   "execution_count": 7,
   "id": "8b35a463",
   "metadata": {},
   "outputs": [
    {
     "data": {
      "text/html": [
       "<pre class=language-r><code>function (x) \n",
       "2 * x</code></pre>"
      ],
      "text/latex": [
       "\\begin{minted}{r}\n",
       "function (x) \n",
       "2 * x\n",
       "\\end{minted}"
      ],
      "text/markdown": [
       "```r\n",
       "function (x) \n",
       "2 * x\n",
       "```"
      ],
      "text/plain": [
       "function (x) \n",
       "2 * x"
      ]
     },
     "metadata": {},
     "output_type": "display_data"
    }
   ],
   "source": [
    "f <- function(x) {\n",
    "    x**2\n",
    "}\n",
    "result <- Deriv(f)\n",
    "result"
   ]
  },
  {
   "cell_type": "code",
   "execution_count": 8,
   "id": "5b5a3dfa",
   "metadata": {},
   "outputs": [
    {
     "data": {
      "text/html": [
       "4"
      ],
      "text/latex": [
       "4"
      ],
      "text/markdown": [
       "4"
      ],
      "text/plain": [
       "[1] 4"
      ]
     },
     "metadata": {},
     "output_type": "display_data"
    }
   ],
   "source": [
    "result(2)"
   ]
  },
  {
   "cell_type": "code",
   "execution_count": 9,
   "id": "861b0150",
   "metadata": {},
   "outputs": [
    {
     "data": {
      "text/html": [
       "<pre class=language-r><code>function (x, y) \n",
       "c(x = cos(x) * cos(y), y = -(sin(x) * sin(y)))</code></pre>"
      ],
      "text/latex": [
       "\\begin{minted}{r}\n",
       "function (x, y) \n",
       "c(x = cos(x) * cos(y), y = -(sin(x) * sin(y)))\n",
       "\\end{minted}"
      ],
      "text/markdown": [
       "```r\n",
       "function (x, y) \n",
       "c(x = cos(x) * cos(y), y = -(sin(x) * sin(y)))\n",
       "```"
      ],
      "text/plain": [
       "function (x, y) \n",
       "c(x = cos(x) * cos(y), y = -(sin(x) * sin(y)))"
      ]
     },
     "metadata": {},
     "output_type": "display_data"
    }
   ],
   "source": [
    "f <- function(x, y) {\n",
    "      sin(x) * cos(y)\n",
    "  }\n",
    "result <- Deriv(f)\n",
    "result"
   ]
  },
  {
   "cell_type": "code",
   "execution_count": 11,
   "id": "cca64af1",
   "metadata": {},
   "outputs": [
    {
     "data": {
      "text/plain": [
       "cos(x) * cos(y)"
      ]
     },
     "metadata": {},
     "output_type": "display_data"
    }
   ],
   "source": [
    "Deriv(~ f(x,y), \"x\")"
   ]
  },
  {
   "cell_type": "code",
   "execution_count": 12,
   "id": "7e4519e0",
   "metadata": {},
   "outputs": [
    {
     "data": {
      "text/plain": [
       "c(x = cos(x) * cos(y), y = -(sin(x) * sin(y)))"
      ]
     },
     "metadata": {},
     "output_type": "display_data"
    }
   ],
   "source": [
    "Deriv(~ f(x,y), c(\"x\", \"y\"))"
   ]
  },
  {
   "cell_type": "code",
   "execution_count": 13,
   "id": "3359be68",
   "metadata": {},
   "outputs": [],
   "source": [
    "# comment - Part 2 Solving Differential Equations"
   ]
  },
  {
   "cell_type": "code",
   "execution_count": 14,
   "id": "56dcc218",
   "metadata": {},
   "outputs": [
    {
     "name": "stderr",
     "output_type": "stream",
     "text": [
      "also installing the dependencies ‘isoband’, ‘rlang’, ‘tinytex’, ‘xfun’\n",
      "\n",
      "Updating HTML index of packages in '.Library'\n",
      "Making 'packages.html' ... done\n"
     ]
    }
   ],
   "source": [
    "install.packages(c(\"deSolve\", \"ggplot2\", \"rmarkdown\"))"
   ]
  },
  {
   "cell_type": "code",
   "execution_count": 16,
   "id": "907df502",
   "metadata": {},
   "outputs": [],
   "source": [
    "# include in current notebook with library(...)\n",
    "library(ggplot2)\n",
    "library(rmarkdown)\n",
    "library(deSolve)"
   ]
  },
  {
   "cell_type": "code",
   "execution_count": 17,
   "id": "21855862",
   "metadata": {},
   "outputs": [
    {
     "data": {
      "text/html": [
       "<ol class=list-inline>\n",
       "\t<li>0</li>\n",
       "\t<li>1</li>\n",
       "\t<li>2</li>\n",
       "\t<li>3</li>\n",
       "\t<li>4</li>\n",
       "\t<li>5</li>\n",
       "\t<li>6</li>\n",
       "\t<li>7</li>\n",
       "\t<li>8</li>\n",
       "\t<li>9</li>\n",
       "</ol>\n"
      ],
      "text/latex": [
       "\\begin{enumerate*}\n",
       "\\item 0\n",
       "\\item 1\n",
       "\\item 2\n",
       "\\item 3\n",
       "\\item 4\n",
       "\\item 5\n",
       "\\item 6\n",
       "\\item 7\n",
       "\\item 8\n",
       "\\item 9\n",
       "\\end{enumerate*}\n"
      ],
      "text/markdown": [
       "1. 0\n",
       "2. 1\n",
       "3. 2\n",
       "4. 3\n",
       "5. 4\n",
       "6. 5\n",
       "7. 6\n",
       "8. 7\n",
       "9. 8\n",
       "10. 9\n",
       "\n",
       "\n"
      ],
      "text/plain": [
       " [1] 0 1 2 3 4 5 6 7 8 9"
      ]
     },
     "metadata": {},
     "output_type": "display_data"
    }
   ],
   "source": [
    "time_interval <- seq(0, 9, by = 1)\n",
    "time_interval"
   ]
  },
  {
   "cell_type": "code",
   "execution_count": 18,
   "id": "36976d58",
   "metadata": {},
   "outputs": [],
   "source": [
    "state <- c(x = 0)"
   ]
  },
  {
   "cell_type": "code",
   "execution_count": 19,
   "id": "1301bc9c",
   "metadata": {},
   "outputs": [],
   "source": [
    "parameters <- c()"
   ]
  },
  {
   "cell_type": "code",
   "execution_count": 20,
   "id": "dc56a5ee",
   "metadata": {},
   "outputs": [],
   "source": [
    "model_fn <- function(t, state, parameters) {\n",
    "    with(as.list(c(state, parameters)), {\n",
    "        dx <- 3\n",
    "        \n",
    "        return (list(dx))\n",
    "    })\n",
    "}"
   ]
  },
  {
   "cell_type": "code",
   "execution_count": 22,
   "id": "3e7abcbf",
   "metadata": {},
   "outputs": [
    {
     "data": {
      "text/html": [
       "<table>\n",
       "<thead><tr><th scope=col>time</th><th scope=col>x</th></tr></thead>\n",
       "<tbody>\n",
       "\t<tr><td>0 </td><td> 0</td></tr>\n",
       "\t<tr><td>1 </td><td> 3</td></tr>\n",
       "\t<tr><td>2 </td><td> 6</td></tr>\n",
       "\t<tr><td>3 </td><td> 9</td></tr>\n",
       "\t<tr><td>4 </td><td>12</td></tr>\n",
       "\t<tr><td>5 </td><td>15</td></tr>\n",
       "\t<tr><td>6 </td><td>18</td></tr>\n",
       "\t<tr><td>7 </td><td>21</td></tr>\n",
       "\t<tr><td>8 </td><td>24</td></tr>\n",
       "\t<tr><td>9 </td><td>27</td></tr>\n",
       "</tbody>\n",
       "</table>\n"
      ],
      "text/latex": [
       "\\begin{tabular}{ll}\n",
       " time & x\\\\\n",
       "\\hline\n",
       "\t 0  &  0\\\\\n",
       "\t 1  &  3\\\\\n",
       "\t 2  &  6\\\\\n",
       "\t 3  &  9\\\\\n",
       "\t 4  & 12\\\\\n",
       "\t 5  & 15\\\\\n",
       "\t 6  & 18\\\\\n",
       "\t 7  & 21\\\\\n",
       "\t 8  & 24\\\\\n",
       "\t 9  & 27\\\\\n",
       "\\end{tabular}\n"
      ],
      "text/markdown": [
       "\n",
       "| time | x |\n",
       "|---|---|\n",
       "| 0  |  0 |\n",
       "| 1  |  3 |\n",
       "| 2  |  6 |\n",
       "| 3  |  9 |\n",
       "| 4  | 12 |\n",
       "| 5  | 15 |\n",
       "| 6  | 18 |\n",
       "| 7  | 21 |\n",
       "| 8  | 24 |\n",
       "| 9  | 27 |\n",
       "\n"
      ],
      "text/plain": [
       "      time x \n",
       " [1,] 0     0\n",
       " [2,] 1     3\n",
       " [3,] 2     6\n",
       " [4,] 3     9\n",
       " [5,] 4    12\n",
       " [6,] 5    15\n",
       " [7,] 6    18\n",
       " [8,] 7    21\n",
       " [9,] 8    24\n",
       "[10,] 9    27"
      ]
     },
     "metadata": {},
     "output_type": "display_data"
    }
   ],
   "source": [
    "result <- ode(y = state, times = time_interval, func = model_fn, parms = parameters)\n",
    "head(result, 10)"
   ]
  },
  {
   "cell_type": "code",
   "execution_count": 24,
   "id": "64be97af",
   "metadata": {},
   "outputs": [
    {
     "data": {
      "image/png": "[encoded data removed]",
      "text/plain": [
       "plot without title"
      ]
     },
     "metadata": {},
     "output_type": "display_data"
    }
   ],
   "source": [
    "plot <- ggplot(data = as.data.frame(result), aes(time, x)) +\n",
    "        geom_line(color = \"#2E86C1\", size = 1.5)\n",
    "plot"
   ]
  },
  {
   "cell_type": "code",
   "execution_count": 25,
   "id": "e270fa27",
   "metadata": {},
   "outputs": [],
   "source": [
    "# ODE #2"
   ]
  },
  {
   "cell_type": "code",
   "execution_count": 26,
   "id": "a84e3be6",
   "metadata": {},
   "outputs": [
    {
     "data": {
      "text/html": [
       "<table>\n",
       "<thead><tr><th scope=col>time</th><th scope=col>x</th></tr></thead>\n",
       "<tbody>\n",
       "\t<tr><td>0         </td><td>  3.000000</td></tr>\n",
       "\t<tr><td>1         </td><td>  4.500003</td></tr>\n",
       "\t<tr><td>2         </td><td>  9.000003</td></tr>\n",
       "\t<tr><td>3         </td><td> 16.500003</td></tr>\n",
       "\t<tr><td>4         </td><td> 27.000003</td></tr>\n",
       "\t<tr><td>5         </td><td> 40.500003</td></tr>\n",
       "\t<tr><td>6         </td><td> 57.000003</td></tr>\n",
       "\t<tr><td>7         </td><td> 76.500003</td></tr>\n",
       "\t<tr><td>8         </td><td> 99.000003</td></tr>\n",
       "\t<tr><td>9         </td><td>124.500003</td></tr>\n",
       "</tbody>\n",
       "</table>\n"
      ],
      "text/latex": [
       "\\begin{tabular}{ll}\n",
       " time & x\\\\\n",
       "\\hline\n",
       "\t 0          &   3.000000\\\\\n",
       "\t 1          &   4.500003\\\\\n",
       "\t 2          &   9.000003\\\\\n",
       "\t 3          &  16.500003\\\\\n",
       "\t 4          &  27.000003\\\\\n",
       "\t 5          &  40.500003\\\\\n",
       "\t 6          &  57.000003\\\\\n",
       "\t 7          &  76.500003\\\\\n",
       "\t 8          &  99.000003\\\\\n",
       "\t 9          & 124.500003\\\\\n",
       "\\end{tabular}\n"
      ],
      "text/markdown": [
       "\n",
       "| time | x |\n",
       "|---|---|\n",
       "| 0          |   3.000000 |\n",
       "| 1          |   4.500003 |\n",
       "| 2          |   9.000003 |\n",
       "| 3          |  16.500003 |\n",
       "| 4          |  27.000003 |\n",
       "| 5          |  40.500003 |\n",
       "| 6          |  57.000003 |\n",
       "| 7          |  76.500003 |\n",
       "| 8          |  99.000003 |\n",
       "| 9          | 124.500003 |\n",
       "\n"
      ],
      "text/plain": [
       "      time x         \n",
       " [1,] 0      3.000000\n",
       " [2,] 1      4.500003\n",
       " [3,] 2      9.000003\n",
       " [4,] 3     16.500003\n",
       " [5,] 4     27.000003\n",
       " [6,] 5     40.500003\n",
       " [7,] 6     57.000003\n",
       " [8,] 7     76.500003\n",
       " [9,] 8     99.000003\n",
       "[10,] 9    124.500003"
      ]
     },
     "metadata": {},
     "output_type": "display_data"
    }
   ],
   "source": [
    "time_interval <- seq(0, 9, by = 1)\n",
    "\n",
    "state <- c(x = 3)\n",
    "\n",
    "parameters <- c()\n",
    "\n",
    "model_fn_2 <- function(t, state, parameters) {\n",
    "    with(as.list(c(state, parameters)), {\n",
    "        dx <- 3*t\n",
    "        \n",
    "        return (list(dx))\n",
    "    })\n",
    "}\n",
    "\n",
    "result <- ode(y = state, times = time_interval, func = model_fn_2, parms = parameters)\n",
    "head(result, 1000)"
   ]
  },
  {
   "cell_type": "code",
   "execution_count": 27,
   "id": "c13e9cc4",
   "metadata": {},
   "outputs": [
    {
     "data": {
      "image/png": "[encoded data removed]",
      "text/plain": [
       "plot without title"
      ]
     },
     "metadata": {},
     "output_type": "display_data"
    }
   ],
   "source": [
    "plot <- ggplot(data = as.data.frame(result), aes(time, x)) +\n",
    "        geom_line(color = \"#2E86C1\", size = 1.5)\n",
    "plot"
   ]
  },
  {
   "cell_type": "code",
   "execution_count": 28,
   "id": "d696ff81",
   "metadata": {},
   "outputs": [
    {
     "data": {
      "text/html": [
       "<table>\n",
       "<thead><tr><th scope=col>time</th><th scope=col>x</th></tr></thead>\n",
       "<tbody>\n",
       "\t<tr><td>0        </td><td>  3.00000</td></tr>\n",
       "\t<tr><td>1        </td><td> 53.33333</td></tr>\n",
       "\t<tr><td>2        </td><td>105.66666</td></tr>\n",
       "\t<tr><td>3        </td><td>161.99999</td></tr>\n",
       "\t<tr><td>4        </td><td>224.33333</td></tr>\n",
       "\t<tr><td>5        </td><td>294.66666</td></tr>\n",
       "\t<tr><td>6        </td><td>374.99999</td></tr>\n",
       "\t<tr><td>7        </td><td>467.33333</td></tr>\n",
       "\t<tr><td>8        </td><td>573.66666</td></tr>\n",
       "\t<tr><td>9        </td><td>695.99999</td></tr>\n",
       "</tbody>\n",
       "</table>\n"
      ],
      "text/latex": [
       "\\begin{tabular}{ll}\n",
       " time & x\\\\\n",
       "\\hline\n",
       "\t 0         &   3.00000\\\\\n",
       "\t 1         &  53.33333\\\\\n",
       "\t 2         & 105.66666\\\\\n",
       "\t 3         & 161.99999\\\\\n",
       "\t 4         & 224.33333\\\\\n",
       "\t 5         & 294.66666\\\\\n",
       "\t 6         & 374.99999\\\\\n",
       "\t 7         & 467.33333\\\\\n",
       "\t 8         & 573.66666\\\\\n",
       "\t 9         & 695.99999\\\\\n",
       "\\end{tabular}\n"
      ],
      "text/markdown": [
       "\n",
       "| time | x |\n",
       "|---|---|\n",
       "| 0         |   3.00000 |\n",
       "| 1         |  53.33333 |\n",
       "| 2         | 105.66666 |\n",
       "| 3         | 161.99999 |\n",
       "| 4         | 224.33333 |\n",
       "| 5         | 294.66666 |\n",
       "| 6         | 374.99999 |\n",
       "| 7         | 467.33333 |\n",
       "| 8         | 573.66666 |\n",
       "| 9         | 695.99999 |\n",
       "\n"
      ],
      "text/plain": [
       "      time x        \n",
       " [1,] 0      3.00000\n",
       " [2,] 1     53.33333\n",
       " [3,] 2    105.66666\n",
       " [4,] 3    161.99999\n",
       " [5,] 4    224.33333\n",
       " [6,] 5    294.66666\n",
       " [7,] 6    374.99999\n",
       " [8,] 7    467.33333\n",
       " [9,] 8    573.66666\n",
       "[10,] 9    695.99999"
      ]
     },
     "metadata": {},
     "output_type": "display_data"
    }
   ],
   "source": [
    "# ODE #3 - Adding parameters\n",
    "\n",
    "time_interval <- seq(0, 9, by = 1)\n",
    "\n",
    "state <- c(x = 3)\n",
    "\n",
    "parameters <- c(k = 50)\n",
    "\n",
    "model_fn_3 <- function(t, state, parameters) {\n",
    "    with(as.list(c(state, parameters)), {\n",
    "        dx <- t*t + k\n",
    "        \n",
    "        return (list(dx))\n",
    "    })\n",
    "}\n",
    "\n",
    "result <- ode(y = state, times = time_interval, func = model_fn_3, parms = parameters)\n",
    "head(result, 1000)"
   ]
  },
  {
   "cell_type": "code",
   "execution_count": 29,
   "id": "b7937cf3",
   "metadata": {
    "scrolled": true
   },
   "outputs": [
    {
     "data": {
      "image/png": "[encoded data removed]",
      "text/plain": [
       "plot without title"
      ]
     },
     "metadata": {},
     "output_type": "display_data"
    }
   ],
   "source": [
    "plot <- ggplot(data = as.data.frame(result), aes(time, x)) +\n",
    "        geom_line(color = \"#2E86C1\", size = 1.5)\n",
    "plot"
   ]
  },
  {
   "cell_type": "code",
   "execution_count": null,
   "id": "976a4bd3",
   "metadata": {},
   "outputs": [],
   "source": []
  }
 ],
 "metadata": {
  "kernelspec": {
   "display_name": "R",
   "language": "R",
   "name": "ir"
  },
  "language_info": {
   "codemirror_mode": "r",
   "file_extension": ".r",
   "mimetype": "text/x-r-source",
   "name": "R",
   "pygments_lexer": "r",
   "version": "3.6.1"
  }
 },
 "nbformat": 4,
 "nbformat_minor": 5
}
