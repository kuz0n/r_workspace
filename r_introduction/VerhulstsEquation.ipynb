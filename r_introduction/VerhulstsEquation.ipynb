{
 "cells": [
  {
   "cell_type": "code",
   "execution_count": 16,
   "id": "5c07c48a",
   "metadata": {},
   "outputs": [
    {
     "name": "stderr",
     "output_type": "stream",
     "text": [
      "Updating HTML index of packages in '.Library'\n",
      "Making 'packages.html' ... done\n"
     ]
    }
   ],
   "source": [
    "install.packages(c(\"deSolve\", \"ggplot2\", \"rmarkdown\"))\n",
    "library(ggplot2)\n",
    "library(deSolve)\n",
    "library(rmarkdown)"
   ]
  },
  {
   "cell_type": "code",
   "execution_count": 2,
   "id": "1429d23f",
   "metadata": {},
   "outputs": [
    {
     "data": {
      "text/html": [
       "<ol class=list-inline>\n",
       "\t<li>0</li>\n",
       "\t<li>0.5</li>\n",
       "\t<li>1</li>\n",
       "\t<li>1.5</li>\n",
       "\t<li>2</li>\n",
       "\t<li>2.5</li>\n",
       "\t<li>3</li>\n",
       "\t<li>3.5</li>\n",
       "\t<li>4</li>\n",
       "\t<li>4.5</li>\n",
       "\t<li>5</li>\n",
       "\t<li>5.5</li>\n",
       "\t<li>6</li>\n",
       "\t<li>6.5</li>\n",
       "\t<li>7</li>\n",
       "\t<li>7.5</li>\n",
       "\t<li>8</li>\n",
       "\t<li>8.5</li>\n",
       "\t<li>9</li>\n",
       "\t<li>9.5</li>\n",
       "\t<li>10</li>\n",
       "</ol>\n"
      ],
      "text/latex": [
       "\\begin{enumerate*}\n",
       "\\item 0\n",
       "\\item 0.5\n",
       "\\item 1\n",
       "\\item 1.5\n",
       "\\item 2\n",
       "\\item 2.5\n",
       "\\item 3\n",
       "\\item 3.5\n",
       "\\item 4\n",
       "\\item 4.5\n",
       "\\item 5\n",
       "\\item 5.5\n",
       "\\item 6\n",
       "\\item 6.5\n",
       "\\item 7\n",
       "\\item 7.5\n",
       "\\item 8\n",
       "\\item 8.5\n",
       "\\item 9\n",
       "\\item 9.5\n",
       "\\item 10\n",
       "\\end{enumerate*}\n"
      ],
      "text/markdown": [
       "1. 0\n",
       "2. 0.5\n",
       "3. 1\n",
       "4. 1.5\n",
       "5. 2\n",
       "6. 2.5\n",
       "7. 3\n",
       "8. 3.5\n",
       "9. 4\n",
       "10. 4.5\n",
       "11. 5\n",
       "12. 5.5\n",
       "13. 6\n",
       "14. 6.5\n",
       "15. 7\n",
       "16. 7.5\n",
       "17. 8\n",
       "18. 8.5\n",
       "19. 9\n",
       "20. 9.5\n",
       "21. 10\n",
       "\n",
       "\n"
      ],
      "text/plain": [
       " [1]  0.0  0.5  1.0  1.5  2.0  2.5  3.0  3.5  4.0  4.5  5.0  5.5  6.0  6.5  7.0\n",
       "[16]  7.5  8.0  8.5  9.0  9.5 10.0"
      ]
     },
     "metadata": {},
     "output_type": "display_data"
    }
   ],
   "source": [
    "time_interval <- seq(0, 10, by = 0.5)\n",
    "time_interval"
   ]
  },
  {
   "cell_type": "code",
   "execution_count": 9,
   "id": "832d57ef",
   "metadata": {},
   "outputs": [],
   "source": [
    "diff_funct <- function(x, k) {\n",
    "    x * (1 - k*x)\n",
    "}"
   ]
  },
  {
   "cell_type": "code",
   "execution_count": 4,
   "id": "b27f9ddf",
   "metadata": {},
   "outputs": [],
   "source": [
    "state <- c(x = 0.1)"
   ]
  },
  {
   "cell_type": "code",
   "execution_count": 6,
   "id": "ba61d85c",
   "metadata": {},
   "outputs": [],
   "source": [
    "k <- 0.2\n",
    "\n",
    "result_list <- c()"
   ]
  },
  {
   "cell_type": "code",
   "execution_count": 7,
   "id": "37fa380c",
   "metadata": {},
   "outputs": [],
   "source": [
    "result_list[1] <- state"
   ]
  },
  {
   "cell_type": "code",
   "execution_count": 12,
   "id": "7b8b4a96",
   "metadata": {},
   "outputs": [],
   "source": [
    "for (i in 1:(length(time_interval) - 1)) {\n",
    "    result_list[i + 1] = result_list[i] +\n",
    "                         0.5 * diff_funct(result_list[i], k)\n",
    "}"
   ]
  },
  {
   "cell_type": "code",
   "execution_count": 13,
   "id": "c6671770",
   "metadata": {},
   "outputs": [
    {
     "data": {
      "text/html": [
       "<ol class=list-inline>\n",
       "\t<li>0.1</li>\n",
       "\t<li>0.149</li>\n",
       "\t<li>0.2212799</li>\n",
       "\t<li>0.327023370585599</li>\n",
       "\t<li>0.479840627387482</li>\n",
       "\t<li>0.696736238312062</li>\n",
       "\t<li>0.996560218890368</li>\n",
       "\t<li>1.39552710134807</li>\n",
       "\t<li>1.89854106296241</li>\n",
       "\t<li>2.48736577766817</li>\n",
       "\t<li>3.11234981531078</li>\n",
       "\t<li>3.69985258567967</li>\n",
       "\t<li>4.18088796294345</li>\n",
       "\t<li>4.52334952854663</li>\n",
       "\t<li>4.73895519707964</li>\n",
       "\t<li>4.86266315962665</li>\n",
       "\t<li>4.92944543904095</li>\n",
       "\t<li>4.96422492491326</li>\n",
       "\t<li>4.98198447685689</li>\n",
       "\t<li>4.99095978252103</li>\n",
       "\t<li>4.99547171870731</li>\n",
       "</ol>\n"
      ],
      "text/latex": [
       "\\begin{enumerate*}\n",
       "\\item 0.1\n",
       "\\item 0.149\n",
       "\\item 0.2212799\n",
       "\\item 0.327023370585599\n",
       "\\item 0.479840627387482\n",
       "\\item 0.696736238312062\n",
       "\\item 0.996560218890368\n",
       "\\item 1.39552710134807\n",
       "\\item 1.89854106296241\n",
       "\\item 2.48736577766817\n",
       "\\item 3.11234981531078\n",
       "\\item 3.69985258567967\n",
       "\\item 4.18088796294345\n",
       "\\item 4.52334952854663\n",
       "\\item 4.73895519707964\n",
       "\\item 4.86266315962665\n",
       "\\item 4.92944543904095\n",
       "\\item 4.96422492491326\n",
       "\\item 4.98198447685689\n",
       "\\item 4.99095978252103\n",
       "\\item 4.99547171870731\n",
       "\\end{enumerate*}\n"
      ],
      "text/markdown": [
       "1. 0.1\n",
       "2. 0.149\n",
       "3. 0.2212799\n",
       "4. 0.327023370585599\n",
       "5. 0.479840627387482\n",
       "6. 0.696736238312062\n",
       "7. 0.996560218890368\n",
       "8. 1.39552710134807\n",
       "9. 1.89854106296241\n",
       "10. 2.48736577766817\n",
       "11. 3.11234981531078\n",
       "12. 3.69985258567967\n",
       "13. 4.18088796294345\n",
       "14. 4.52334952854663\n",
       "15. 4.73895519707964\n",
       "16. 4.86266315962665\n",
       "17. 4.92944543904095\n",
       "18. 4.96422492491326\n",
       "19. 4.98198447685689\n",
       "20. 4.99095978252103\n",
       "21. 4.99547171870731\n",
       "\n",
       "\n"
      ],
      "text/plain": [
       " [1] 0.1000000 0.1490000 0.2212799 0.3270234 0.4798406 0.6967362 0.9965602\n",
       " [8] 1.3955271 1.8985411 2.4873658 3.1123498 3.6998526 4.1808880 4.5233495\n",
       "[15] 4.7389552 4.8626632 4.9294454 4.9642249 4.9819845 4.9909598 4.9954717"
      ]
     },
     "metadata": {},
     "output_type": "display_data"
    }
   ],
   "source": [
    "result_list"
   ]
  },
  {
   "cell_type": "code",
   "execution_count": 18,
   "id": "72958f3c",
   "metadata": {},
   "outputs": [
    {
     "data": {
      "image/png": "[encoded data removed]",
      "text/plain": [
       "plot without title"
      ]
     },
     "metadata": {},
     "output_type": "display_data"
    }
   ],
   "source": [
    "approximation <- ggplot(data = data.frame(p = result_list, t = time_interval),\n",
    "                       aes(t, result_list)) + geom_point(size = 3)\n",
    "print(approximation)"
   ]
  },
  {
   "cell_type": "code",
   "execution_count": null,
   "id": "5d29136a",
   "metadata": {},
   "outputs": [],
   "source": []
  }
 ],
 "metadata": {
  "kernelspec": {
   "display_name": "R",
   "language": "R",
   "name": "ir"
  },
  "language_info": {
   "codemirror_mode": "r",
   "file_extension": ".r",
   "mimetype": "text/x-r-source",
   "name": "R",
   "pygments_lexer": "r",
   "version": "3.6.1"
  }
 },
 "nbformat": 4,
 "nbformat_minor": 5
}
